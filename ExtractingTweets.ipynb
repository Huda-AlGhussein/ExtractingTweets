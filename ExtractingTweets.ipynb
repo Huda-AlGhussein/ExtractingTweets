{
  "nbformat": 4,
  "nbformat_minor": 0,
  "metadata": {
    "colab": {
      "provenance": [],
      "authorship_tag": "ABX9TyP7WMKX5REL+OBlSJH9JIVa"
    },
    "kernelspec": {
      "name": "python3",
      "display_name": "Python 3"
    },
    "language_info": {
      "name": "python"
    }
  },
  "cells": [
    {
      "cell_type": "code",
      "execution_count": 1,
      "metadata": {
        "id": "7HlOG5P--Xtr",
        "colab": {
          "base_uri": "https://localhost:8080/"
        },
        "outputId": "60e85a1b-72e9-4f3f-97c8-d718f1d4ee49"
      },
      "outputs": [
        {
          "output_type": "stream",
          "name": "stdout",
          "text": [
            "Looking in indexes: https://pypi.org/simple, https://us-python.pkg.dev/colab-wheels/public/simple/\n",
            "Collecting langdetect\n",
            "  Downloading langdetect-1.0.9.tar.gz (981 kB)\n",
            "\u001b[K     |████████████████████████████████| 981 kB 5.0 MB/s \n",
            "\u001b[?25hRequirement already satisfied: six in /usr/local/lib/python3.7/dist-packages (from langdetect) (1.15.0)\n",
            "Building wheels for collected packages: langdetect\n",
            "  Building wheel for langdetect (setup.py) ... \u001b[?25l\u001b[?25hdone\n",
            "  Created wheel for langdetect: filename=langdetect-1.0.9-py3-none-any.whl size=993242 sha256=47378d66644d71fcd01f8a18b745921177ef13583254742545bd672a20a598d2\n",
            "  Stored in directory: /root/.cache/pip/wheels/c5/96/8a/f90c59ed25d75e50a8c10a1b1c2d4c402e4dacfa87f3aff36a\n",
            "Successfully built langdetect\n",
            "Installing collected packages: langdetect\n",
            "Successfully installed langdetect-1.0.9\n"
          ]
        }
      ],
      "source": [
        "!pip install langdetect"
      ]
    },
    {
      "cell_type": "code",
      "source": [
        "!pip install snscrape"
      ],
      "metadata": {
        "colab": {
          "base_uri": "https://localhost:8080/"
        },
        "id": "kwSEz0Lg1-kh",
        "outputId": "d00b4363-2100-430e-ac77-af3e867ff20e"
      },
      "execution_count": 2,
      "outputs": [
        {
          "output_type": "stream",
          "name": "stdout",
          "text": [
            "Looking in indexes: https://pypi.org/simple, https://us-python.pkg.dev/colab-wheels/public/simple/\n",
            "Collecting snscrape\n",
            "  Downloading snscrape-0.3.4-py3-none-any.whl (35 kB)\n",
            "Requirement already satisfied: beautifulsoup4 in /usr/local/lib/python3.7/dist-packages (from snscrape) (4.6.3)\n",
            "Requirement already satisfied: requests[socks] in /usr/local/lib/python3.7/dist-packages (from snscrape) (2.23.0)\n",
            "Requirement already satisfied: lxml in /usr/local/lib/python3.7/dist-packages (from snscrape) (4.9.1)\n",
            "Requirement already satisfied: chardet<4,>=3.0.2 in /usr/local/lib/python3.7/dist-packages (from requests[socks]->snscrape) (3.0.4)\n",
            "Requirement already satisfied: urllib3!=1.25.0,!=1.25.1,<1.26,>=1.21.1 in /usr/local/lib/python3.7/dist-packages (from requests[socks]->snscrape) (1.24.3)\n",
            "Requirement already satisfied: certifi>=2017.4.17 in /usr/local/lib/python3.7/dist-packages (from requests[socks]->snscrape) (2022.9.24)\n",
            "Requirement already satisfied: idna<3,>=2.5 in /usr/local/lib/python3.7/dist-packages (from requests[socks]->snscrape) (2.10)\n",
            "Requirement already satisfied: PySocks!=1.5.7,>=1.5.6 in /usr/local/lib/python3.7/dist-packages (from requests[socks]->snscrape) (1.7.1)\n",
            "Installing collected packages: snscrape\n",
            "Successfully installed snscrape-0.3.4\n"
          ]
        }
      ]
    },
    {
      "cell_type": "code",
      "source": [
        "import snscrape.modules.twitter as sntwitter\n",
        "import pandas as pd\n",
        "from langdetect import detect\n",
        "from langdetect import DetectorFactory\n",
        "DetectorFactory.seed = 0"
      ],
      "metadata": {
        "id": "n6MPpTKi-aSZ"
      },
      "execution_count": 3,
      "outputs": []
    },
    {
      "cell_type": "code",
      "source": [
        "#Extracting tweets and detecting it is in the Arabic language\n",
        "def extract_tweets(query,tweets,limit ):\n",
        "  \n",
        "  for tweet in sntwitter.TwitterSearchScraper(query).get_items():\n",
        "    try:\n",
        "      lan= detect(tweet.content)\n",
        "    except:\n",
        "      lan= 'error'\n",
        "      \n",
        "    if lan == 'ar':\n",
        "      tweets.append([tweet.date, tweet.username, tweet.content])\n",
        "    if len(tweets) == limit:\n",
        "      break\n",
        "  return tweets"
      ],
      "metadata": {
        "id": "vKbkNPfE2GKM"
      },
      "execution_count": 4,
      "outputs": []
    },
    {
      "cell_type": "code",
      "source": [
        "tweets1 = []\n",
        "query= [\"#QatarWorldCup2022\"]\n",
        "limit=500\n",
        "data1= extract_tweets(query, tweets1,limit)"
      ],
      "metadata": {
        "id": "UdEKRoYZIZms"
      },
      "execution_count": 14,
      "outputs": []
    },
    {
      "cell_type": "code",
      "source": [
        "print(len(data1))"
      ],
      "metadata": {
        "colab": {
          "base_uri": "https://localhost:8080/"
        },
        "id": "ZpObQa562JTc",
        "outputId": "8c244e34-d976-433b-b036-b65a615a8681"
      },
      "execution_count": 15,
      "outputs": [
        {
          "output_type": "stream",
          "name": "stdout",
          "text": [
            "296\n"
          ]
        }
      ]
    },
    {
      "cell_type": "code",
      "source": [
        "query2=[ \"WorldCup2022\"]\n",
        "tweets2= []\n",
        "#1 hour executing time\n",
        "limit= 1000- len(data1)\n",
        "data2= extract_tweets(query2, tweets2, limit)"
      ],
      "metadata": {
        "id": "9onRPOJrL2Jt"
      },
      "execution_count": 16,
      "outputs": []
    },
    {
      "cell_type": "code",
      "source": [
        "print(len(data2))"
      ],
      "metadata": {
        "colab": {
          "base_uri": "https://localhost:8080/"
        },
        "id": "N8iYbb893CxR",
        "outputId": "7a82e211-b923-468b-c08a-d47430098b13"
      },
      "execution_count": 17,
      "outputs": [
        {
          "output_type": "stream",
          "name": "stdout",
          "text": [
            "705\n"
          ]
        }
      ]
    },
    {
      "cell_type": "code",
      "source": [
        "data= data1+data2\n",
        "print(len(data))"
      ],
      "metadata": {
        "colab": {
          "base_uri": "https://localhost:8080/"
        },
        "id": "x6SYkHRLrHdP",
        "outputId": "efbed4c8-ebd6-4235-cdbc-23280127c456"
      },
      "execution_count": 19,
      "outputs": [
        {
          "output_type": "stream",
          "name": "stdout",
          "text": [
            "1001\n"
          ]
        }
      ]
    },
    {
      "cell_type": "code",
      "source": [
        "column= ['Date', 'User', 'Tweet']\n",
        "df= pd.DataFrame(data, columns= column)"
      ],
      "metadata": {
        "id": "ui08XMt1Uc9H"
      },
      "execution_count": 20,
      "outputs": []
    },
    {
      "cell_type": "code",
      "source": [
        "print(df)"
      ],
      "metadata": {
        "colab": {
          "base_uri": "https://localhost:8080/"
        },
        "id": "gSQJGz0LmuIb",
        "outputId": "12d1975e-ba93-437a-cdd5-4c75aae3fba5"
      },
      "execution_count": 21,
      "outputs": [
        {
          "output_type": "stream",
          "name": "stdout",
          "text": [
            "                          Date             User  \\\n",
            "0    2022-10-27 11:45:10+00:00   Zafer_Albishri   \n",
            "1    2022-10-27 08:54:37+00:00  BritPlasticSurg   \n",
            "2    2022-10-27 08:07:39+00:00   MohammadShajmi   \n",
            "3    2022-10-27 07:51:13+00:00          wejhatt   \n",
            "4    2022-10-27 01:54:17+00:00  qK9J5r0SHOy5zl3   \n",
            "...                        ...              ...   \n",
            "996  2022-10-19 00:42:50+00:00           i22MTi   \n",
            "997  2022-10-19 00:41:35+00:00           i22MTi   \n",
            "998  2022-10-19 00:41:04+00:00           i22MTi   \n",
            "999  2022-10-19 00:39:59+00:00           i22MTi   \n",
            "1000 2022-10-19 00:39:45+00:00           i22MTi   \n",
            "\n",
            "                                                  Tweet  \n",
            "0     #فخرنا_الأخضر .. \\n\\nالأغنية الرسمية ل #المنتخ...  \n",
            "1     نائب السفير البريطاني في الدوحة ترحب بالقادمين...  \n",
            "2     ومن حفظه أن الله يحفظ أهله من أعدائهم، ولا يسل...  \n",
            "3     مكتبة #قطر الوطنية تحتفل في نوفمبر بانطلاق بطو...  \n",
            "4     قطـر بقلب الكويت 🇰🇼 🇶🇦 #كأس_العالم_قطر_2022 #Q...  \n",
            "...                                                 ...  \n",
            "996   المباراة27: 🇭🇷 كرواتيا vs كندا  🇨🇦 متوفرة الان...  \n",
            "997   المباراة6: 🇩🇰 االدنمارك vs تونس🇹🇳 متوفرة الان ...  \n",
            "998   المباراة10: 🇪🇸 اسبانيا vs كوستاريكا 🇨🇷 متوفرة ...  \n",
            "999   المباراة 35: 🇪🇨 الاكوادور vs السنغال🇸🇳 متاحة ا...  \n",
            "1000  المباراة 22: 🇵🇱 بولندا vs السعودية 🇸🇦 متاحة ال...  \n",
            "\n",
            "[1001 rows x 3 columns]\n"
          ]
        }
      ]
    },
    {
      "cell_type": "code",
      "source": [
        "#to save to csv\n",
        "df.to_csv('Tweets.csv')"
      ],
      "metadata": {
        "id": "HIoROrvoxCPJ"
      },
      "execution_count": 22,
      "outputs": []
    }
  ]
}